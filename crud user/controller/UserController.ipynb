{
 "cells": [
  {
   "attachments": {},
   "cell_type": "markdown",
   "metadata": {},
   "source": [
    "**Controller untuk UserController**"
   ]
  },
  {
   "cell_type": "code",
   "execution_count": null,
   "metadata": {
    "vscode": {
     "languageId": "php"
    }
   },
   "outputs": [],
   "source": [
    "php artisan make:controller UserController"
   ]
  },
  {
   "attachments": {},
   "cell_type": "markdown",
   "metadata": {},
   "source": [
    "**code untuk controller**"
   ]
  },
  {
   "cell_type": "code",
   "execution_count": null,
   "metadata": {
    "vscode": {
     "languageId": "php"
    }
   },
   "outputs": [],
   "source": [
    "public function index()\n",
    "    {\n",
    "        $users = User::all();\n",
    "        return view('user.index', compact('users'));\n",
    "    }\n",
    "\n",
    "    public function create()\n",
    "    {\n",
    "        return view('user.create');\n",
    "    }\n",
    "\n",
    "    public function store(Request $request)\n",
    "    {\n",
    "        $validate = $request->validate([\n",
    "            'name' => 'required|max:255',\n",
    "            'email' => 'required|email|unique:users,email|max:255',\n",
    "            'password' => 'required|confirmed|min:8',\n",
    "        ]);\n",
    "\n",
    "        $user = User::create([\n",
    "            'name' => $validate['name'],\n",
    "            'email' => $validate['email'],\n",
    "            'password' => bcrypt($validate['email']),\n",
    "        ]);\n",
    "\n",
    "        auth()->login($user);\n",
    "\n",
    "        return redirect('/users');\n",
    "    }\n",
    "\n",
    "    public function show(User $user)\n",
    "    {\n",
    "\n",
    "    }\n",
    "\n",
    "    public function edit(User $user)\n",
    "    {\n",
    "        return view('user.edit', compact('user'));\n",
    "    }\n",
    "\n",
    "    public function update(Request $request, User $user)\n",
    "    {\n",
    "        $request->validate([\n",
    "            'name' => 'required',\n",
    "            'email' => 'required|unique:users,email,' . $user->id,\n",
    "            'password' => 'nullable|min:6|confirmed'\n",
    "        ]);\n",
    "\n",
    "        $user->name = $request->input('name');\n",
    "        $user->email = $request->input('email');\n",
    "        if ($request->input('password')) {\n",
    "            $user->password = bcrypt($request->input('password'));\n",
    "        }\n",
    "        $user->save();\n",
    "\n",
    "        return redirect('users')->with('success', 'User updated successfully!');\n",
    "\n",
    "    }\n",
    "\n",
    "    public function destroy( $id)\n",
    "    {\n",
    "        if ($id == auth()->user()->id) {\n",
    "            return 'maaf user sedang login';\n",
    "        }\n",
    "        DB::table('users')->where('id', $id)->delete();\n",
    "        return redirect('users');\n",
    "\n",
    "    }"
   ]
  }
 ],
 "metadata": {
  "language_info": {
   "name": "python"
  },
  "orig_nbformat": 4
 },
 "nbformat": 4,
 "nbformat_minor": 2
}
