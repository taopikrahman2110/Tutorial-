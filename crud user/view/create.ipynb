{
 "cells": [
  {
   "attachments": {},
   "cell_type": "markdown",
   "metadata": {},
   "source": [
    "**View Untuk Create User**"
   ]
  },
  {
   "cell_type": "code",
   "execution_count": null,
   "metadata": {
    "vscode": {
     "languageId": "plaintext"
    }
   },
   "outputs": [],
   "source": [
    "    <div class=\"container\">\n",
    "        <div class=\"row\">\n",
    "            <div class=\"col-md-4 col-md-offset-4\">\n",
    "                <div class=\"login-panel panel panel-default\">\n",
    "                    <div class=\"panel-heading\">\n",
    "                        <h3 class=\"panel-title\">Tambah User</h3>\n",
    "                    </div>\n",
    "                    <div class=\"panel-body\">\n",
    "                        <form method=\"POST\" action=\"{{ route('users.store') }}\">\n",
    "                            @csrf\n",
    "                            <fieldset>\n",
    "                                <div class=\"form-group\">\n",
    "                                    <input id=\"name\" type=\"text\" placeholder=\"masukan nama\"\n",
    "                                           class=\"form-control @error('name') is-invalid @enderror\" name=\"name\"\n",
    "                                           value=\"{{ old('name') }}\" required autocomplete=\"name\" autofocus>\n",
    "\n",
    "                                    @error('name')\n",
    "                                    <span class=\"invalid-feedback\" role=\"alert\">\n",
    "                                            <strong class=\"text-danger\">{{ $message }}</strong>\n",
    "                                        </span>\n",
    "                                    @enderror\n",
    "                                </div>\n",
    "                                <div class=\"form-group\">\n",
    "                                    <input id=\"email\" type=\"email\" placeholder=\"masukan email\"\n",
    "                                           class=\"form-control @error('email') is-invalid @enderror\" name=\"email\"\n",
    "                                           value=\"{{ old('email') }}\" required autocomplete=\"email\">\n",
    "\n",
    "                                    @error('email')\n",
    "                                    <span class=\"invalid-feedback\" role=\"alert\">\n",
    "                                            <strong class=\"text-danger\">{{ $message }}</strong>\n",
    "                                        </span>\n",
    "                                    @enderror\n",
    "                                </div>\n",
    "                                <div class=\"form-group\">\n",
    "                                    <input id=\"password\" type=\"password\" placeholder=\"masukan password\"\n",
    "                                           class=\"form-control @error('password') is-invalid @enderror\" name=\"password\"\n",
    "                                           required autocomplete=\"new-password\">\n",
    "\n",
    "                                    @error('password')\n",
    "                                    <span class=\"invalid-feedback\" role=\"alert\">\n",
    "                                            <strong>{{ $message }}</strong>\n",
    "                                        </span>\n",
    "                                    @enderror\n",
    "                                </div>\n",
    "                                <div class=\"form-group\">\n",
    "                                    <input id=\"password-confirm\" type=\"password\" placeholder=\"konfirmasi pasowrd\" class=\"form-control\"\n",
    "                                           name=\"password_confirmation\" required autocomplete=\"new-password\">\n",
    "                                </div>\n",
    "                                <div class=\"checkbox\">\n",
    "                                    <label>\n",
    "                                        <input name=\"remember\" type=\"checkbox\" value=\"Remember Me\">Remember Me\n",
    "                                    </label>\n",
    "                                </div>\n",
    "                                <!-- Change this to a button or input when using this as a form -->\n",
    "                                <button type=\"submit\" class=\"btn btn-lg btn-success btn-block\">\n",
    "                                    Tambah Acount\n",
    "                                </button>\n",
    "\n",
    "                            </fieldset>\n",
    "                        </form>\n",
    "                    </div>\n",
    "                </div>\n",
    "            </div>\n",
    "        </div>\n",
    "    </div>"
   ]
  }
 ],
 "metadata": {
  "language_info": {
   "name": "python"
  },
  "orig_nbformat": 4
 },
 "nbformat": 4,
 "nbformat_minor": 2
}
