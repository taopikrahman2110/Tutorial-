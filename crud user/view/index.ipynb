{
 "cells": [
  {
   "attachments": {},
   "cell_type": "markdown",
   "metadata": {},
   "source": [
    "**View Index Untuk User**"
   ]
  },
  {
   "attachments": {},
   "cell_type": "markdown",
   "metadata": {},
   "source": [
    "    <div id=\"page-wrapper\">\n",
    "        <div class=\"container-fluid\">\n",
    "\n",
    "            <div class=\"row\">\n",
    "                <div class=\"col-lg-12\">\n",
    "                    <h1 class=\"page-header\">Page Title</h1>\n",
    "                    <div class=\"row\">\n",
    "                        <div class=\"col-lg-12\">\n",
    "                            <div class=\"panel panel-default\">\n",
    "                                <div class=\"panel-heading\">\n",
    "                                    <a href=\"{{ route('users.create') }}\" class=\"btn btn-primary\">Add User</a>\n",
    "                                </div>\n",
    "                                <!-- /.panel-heading -->\n",
    "                                <div class=\"panel-body\">\n",
    "                                    <div class=\"table-responsive\">\n",
    "                                        <table class=\"table table-striped table-bordered table-hover\" id=\"dataTables-example\">\n",
    "                                            <thead>\n",
    "                                            <tr>\n",
    "                                                <th>No</th>\n",
    "                                                <th>Name</th>\n",
    "                                                <th>Emai</th>\n",
    "                                                <th>Action</th>\n",
    "                                            </tr>\n",
    "                                            </thead>\n",
    "                                            <tbody>\n",
    "                                            @php $no = 1 @endphp\n",
    "                                            @foreach($users as $user)\n",
    "                                                <tr class=\"odd gradeX\">\n",
    "                                                    <td>{{ $no++ }}</td>\n",
    "                                                    <td>{{ $user->name }}</td>\n",
    "                                                    <td>{{ $user->email }}</td>\n",
    "                                                    <td>\n",
    "                                                         <a href=\"{{ route('users.edit', $user->id) }}\" class=\"btn btn-sm btn-success\">Edit</a>\n",
    "                                                        <form action=\"{{ route('users.destroy', $user->id) }}\" method=\"POST\" style=\"display: inline;\">\n",
    "                                                            @csrf\n",
    "                                                            @method('DELETE')\n",
    "                                                            <button type=\"submit\" class=\"btn btn-sm btn-danger\">Delete</button>\n",
    "                                                        </form>\n",
    "                                                    </td>\n",
    "                                                </tr>\n",
    "                                            @endforeach\n",
    "                                            </tbody>\n",
    "                                        </table>\n",
    "                                    </div>\n",
    "                                    <!-- /.table-responsive -->\n",
    "\n",
    "                                </div>\n",
    "                                <!-- /.panel-body -->\n",
    "                            </div>\n",
    "                            <!-- /.panel -->\n",
    "                        </div>\n",
    "                        <!-- /.col-lg-12 -->\n",
    "                    </div>\n",
    "                </div>\n",
    "            </div>\n",
    "\n",
    "            <!-- ... Your content goes here ... -->\n",
    "\n",
    "        </div>\n",
    "    </div>"
   ]
  }
 ],
 "metadata": {
  "language_info": {
   "name": "python"
  },
  "orig_nbformat": 4
 },
 "nbformat": 4,
 "nbformat_minor": 2
}
