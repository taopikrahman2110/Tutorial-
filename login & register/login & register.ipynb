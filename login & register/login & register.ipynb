{
 "cells": [
  {
   "attachments": {},
   "cell_type": "markdown",
   "metadata": {},
   "source": [
    "**Tutorial Membuat Login, Register dan Logout**"
   ]
  },
  {
   "attachments": {},
   "cell_type": "markdown",
   "metadata": {},
   "source": [
    "**Membuat Route Login dan Register**"
   ]
  },
  {
   "cell_type": "code",
   "execution_count": null,
   "metadata": {
    "vscode": {
     "languageId": "php"
    }
   },
   "outputs": [],
   "source": [
    "Route::get('/login',[\\App\\Http\\Controllers\\UserController::class,'IndexLogin'])->name('login');\n",
    "Route::post('/login', [\\App\\Http\\Controllers\\UserController::class,'login']);\n",
    "Route::get('/register',[\\App\\Http\\Controllers\\UserController::class,'IndexRegister'])->name('register');\n",
    "Route::post('/register',[\\App\\Http\\Controllers\\UserController::class,'register']);\n",
    "Route::get('/logout', [\\App\\Http\\Controllers\\UserController::class,'logout'])->name('logout');"
   ]
  },
  {
   "attachments": {},
   "cell_type": "markdown",
   "metadata": {},
   "source": [
    "**Membuat Controller UserController** "
   ]
  },
  {
   "cell_type": "code",
   "execution_count": null,
   "metadata": {
    "vscode": {
     "languageId": "php"
    }
   },
   "outputs": [],
   "source": [
    "php artisan make:controller UserController"
   ]
  },
  {
   "attachments": {},
   "cell_type": "markdown",
   "metadata": {},
   "source": [
    "**code untuk user controllernya**"
   ]
  },
  {
   "cell_type": "code",
   "execution_count": null,
   "metadata": {
    "vscode": {
     "languageId": "php"
    }
   },
   "outputs": [],
   "source": [
    "class UserController extends Controller\n",
    "{\n",
    "\n",
    "    public function IndexLogin ()\n",
    "    {\n",
    "        return view('auth.login');\n",
    "    }\n",
    "    public function login (Request $request)\n",
    "    {\n",
    "        $credentials = $request->validate([\n",
    "            'email' => ['required', 'email'],\n",
    "            'password' => ['required'],\n",
    "        ]);\n",
    "\n",
    "        if (Auth::attempt($credentials)) {\n",
    "            $request->session()->regenerate();\n",
    "\n",
    "            return redirect()->intended('/users');\n",
    "        }\n",
    "\n",
    "        return back()->withErrors([\n",
    "            'email' => 'mohon maaf email anda salah',\n",
    "        ]);\n",
    "    }\n",
    "    public function IndexRegister ()\n",
    "    {\n",
    "        return view('auth.register');\n",
    "    }\n",
    "    public function register(Request $request)\n",
    "    {\n",
    "        $validate = $request->validate([\n",
    "            'name' => 'required|max:255',\n",
    "            'email' => 'required|email|unique:users,email|max:255',\n",
    "            'password' => 'required|confirmed|min:8',\n",
    "        ]);\n",
    "\n",
    "        $user = User::create([\n",
    "            'name' => $validate['name'],\n",
    "            'email' => $validate['email'],\n",
    "            'password' => bcrypt($validate['email']),\n",
    "        ]);\n",
    "\n",
    "        auth()->login($user);\n",
    "\n",
    "        return redirect('/login');\n",
    "    }\n",
    "    public function logout()\n",
    "    {\n",
    "        Auth::logout();\n",
    "\n",
    "        return redirect('/login');\n",
    "    }\n",
    "}"
   ]
  },
  {
   "attachments": {},
   "cell_type": "markdown",
   "metadata": {},
   "source": [
    "**Code untuk view login**"
   ]
  },
  {
   "attachments": {},
   "cell_type": "markdown",
   "metadata": {},
   "source": [
    "\n",
    "    <div class=\"container\">\n",
    "        <div class=\"row\">\n",
    "            <div class=\"col-md-4 col-md-offset-4\">\n",
    "                <div class=\"login-panel panel panel-default\">\n",
    "                    <div class=\"panel-heading\">\n",
    "                        <h3 class=\"panel-title\">Please Sign In</h3>\n",
    "                    </div>\n",
    "                    <div class=\"panel-body\">\n",
    "                        <form method=\"POST\" action=\"{{ route('login') }}\">\n",
    "                            @csrf\n",
    "                            <fieldset>\n",
    "                                <div class=\"form-group\">\n",
    "                                    <input id=\"email\" type=\"email\"\n",
    "                                           placeholder=\"masukan email\"\n",
    "                                           class=\"form-control @error('email') is-invalid @enderror\" name=\"email\"\n",
    "                                           value=\"{{Session::get('email')}}\" required autocomplete=\"email\" autofocus>\n",
    "\n",
    "                                    @error('email')\n",
    "                                    <span class=\"invalid-feedback\" role=\"alert\">\n",
    "                                            <strong class=\"text-danger\">{{ $message }}</strong>\n",
    "                                        </span>\n",
    "                                    @enderror\n",
    "                                </div>\n",
    "                                <div class=\"form-group\">\n",
    "                                    <input id=\"password\" type=\"password\"\n",
    "                                           placeholder=\"masukan password\"\n",
    "                                           class=\"form-control @error('password') is-invalid @enderror\" name=\"password\"\n",
    "                                           required autocomplete=\"current-password\">\n",
    "\n",
    "                                    @error('password')\n",
    "                                    <span class=\"invalid-feedback\" role=\"alert\">\n",
    "                                            <strong class=\"text-danger\">{{ $message }}</strong>\n",
    "                                        </span>\n",
    "                                    @enderror\n",
    "                                </div>\n",
    "                                <div class=\"text-center\" style=\"margin-top: 15px\">\n",
    "                                    Belum punya akun? <a href=\"/register\">Silahkan Register</a>\n",
    "                                </div>\n",
    "\n",
    "\n",
    "                                <button type=\"submit\" class=\"btn btn-lg btn-success btn-block\">\n",
    "                                    {{ __('Login') }}\n",
    "                                </button>\n",
    "\n",
    "                                @if (Route::has('password.request'))\n",
    "                                    <a class=\"btn btn-link\" href=\"{{ route('password.request') }}\">\n",
    "                                        {{ __('Forgot Your Password?') }}\n",
    "                                    </a>\n",
    "                                @endif\n",
    "                            </fieldset>\n",
    "                        </form>\n",
    "                    </div>\n",
    "                </div>\n",
    "            </div>\n",
    "        </div>\n",
    "    </div>"
   ]
  },
  {
   "attachments": {},
   "cell_type": "markdown",
   "metadata": {},
   "source": [
    "**Membuat View Untuk Register**"
   ]
  },
  {
   "attachments": {},
   "cell_type": "markdown",
   "metadata": {},
   "source": [
    "    <div class=\"container\">\n",
    "        <div class=\"row\">\n",
    "            <div class=\"col-md-4 col-md-offset-4\">\n",
    "                <div class=\"login-panel panel panel-default\">\n",
    "                    <div class=\"panel-heading\">\n",
    "                        <h3 class=\"panel-title\">Register</h3>\n",
    "                    </div>\n",
    "                    <div class=\"panel-body\">\n",
    "                        <form method=\"POST\" action=\"{{ route('register') }}\">\n",
    "                            @csrf\n",
    "                            <fieldset>\n",
    "                                <div class=\"form-group\">\n",
    "                                    <input id=\"name\" type=\"text\" placeholder=\"masukan nama\"\n",
    "                                           class=\"form-control @error('name') is-invalid @enderror\" name=\"name\"\n",
    "                                           value=\"{{ old('name') }}\" required autocomplete=\"name\" autofocus>\n",
    "\n",
    "                                    @error('name')\n",
    "                                    <span class=\"invalid-feedback\" role=\"alert\">\n",
    "                                            <strong class=\"text-danger\">{{ $message }}</strong>\n",
    "                                        </span>\n",
    "                                    @enderror\n",
    "                                </div>\n",
    "                                <div class=\"form-group\">\n",
    "                                    <input id=\"email\" type=\"email\" placeholder=\"masukan email\"\n",
    "                                           class=\"form-control @error('email') is-invalid @enderror\" name=\"email\"\n",
    "\n",
    "                                           value=\"{{ old('email') }}\" required autocomplete=\"email\">\n",
    "\n",
    "                                    @error('email')\n",
    "                                    <span class=\"invalid-feedback\" role=\"alert\">\n",
    "                                            <strong class=\"text-danger\">{{ $message }}</strong>\n",
    "                                        </span>\n",
    "                                    @enderror\n",
    "                                </div>\n",
    "                                <div class=\"form-group\">\n",
    "                                    <input id=\"password\" type=\"password\" placeholder=\"masukan password\"\n",
    "                                           class=\"form-control @error('password') is-invalid @enderror\" name=\"password\"\n",
    "                                           required autocomplete=\"new-password\">\n",
    "\n",
    "                                    @error('password')\n",
    "                                    <span class=\"invalid-feedback\" role=\"alert\">\n",
    "                                            <strong>{{ $message }}</strong>\n",
    "                                        </span>\n",
    "                                    @enderror\n",
    "                                </div>\n",
    "                                <div class=\"form-group\">\n",
    "                                    <input id=\"password-confirm\" type=\"password\" placeholder=\"konfirmasi pasowrd\"\n",
    "                                           class=\"form-control\"\n",
    "                                           name=\"password_confirmation\" required autocomplete=\"new-password\">\n",
    "                                </div>\n",
    "\n",
    "                                <!-- Change this to a button or input when using this as a form -->\n",
    "                                <button type=\"submit\" class=\"btn btn-lg btn-success btn-block\">\n",
    "                                    Register\n",
    "                                </button>\n",
    "\n",
    "                            </fieldset>\n",
    "                        </form>\n",
    "                    </div>\n",
    "                </div>\n",
    "            </div>\n",
    "        </div>\n",
    "    </div>"
   ]
  }
 ],
 "metadata": {
  "language_info": {
   "name": "python"
  },
  "orig_nbformat": 4
 },
 "nbformat": 4,
 "nbformat_minor": 2
}
