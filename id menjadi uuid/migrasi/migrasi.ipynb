{
 "cells": [
  {
   "attachments": {},
   "cell_type": "markdown",
   "metadata": {},
   "source": [
    "**merubah id menjadi primarykey**"
   ]
  },
  {
   "cell_type": "code",
   "execution_count": null,
   "metadata": {
    "vscode": {
     "languageId": "plaintext"
    }
   },
   "outputs": [],
   "source": [
    "public function up()\n",
    "    {\n",
    "        Schema::create('customers', function (Blueprint $table) {\n",
    "            $table->string('id')->primary();\n",
    "            $table->string('name');\n",
    "            $table->string('email');\n",
    "            $table->timestamps();\n",
    "        });\n",
    "    }"
   ]
  }
 ],
 "metadata": {
  "language_info": {
   "name": "python"
  },
  "orig_nbformat": 4
 },
 "nbformat": 4,
 "nbformat_minor": 2
}
