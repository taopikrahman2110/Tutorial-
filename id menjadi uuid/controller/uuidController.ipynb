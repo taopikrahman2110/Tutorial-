{
 "cells": [
  {
   "attachments": {},
   "cell_type": "markdown",
   "metadata": {},
   "source": [
    "**Controller untuk coba post uuid**"
   ]
  },
  {
   "cell_type": "code",
   "execution_count": null,
   "metadata": {
    "vscode": {
     "languageId": "plaintext"
    }
   },
   "outputs": [],
   "source": [
    "    public function store(Request $request)\n",
    "    {\n",
    "        $customer = Customer::create([\n",
    "            'name' => $request->name,\n",
    "            'email' => $request->email\n",
    "        ]);\n",
    "\n",
    "        return response()->json([\n",
    "            'data' => $customer\n",
    "        ]);\n",
    "    }"
   ]
  },
  {
   "cell_type": "markdown",
   "metadata": {},
   "source": []
  }
 ],
 "metadata": {
  "language_info": {
   "name": "python"
  },
  "orig_nbformat": 4
 },
 "nbformat": 4,
 "nbformat_minor": 2
}
