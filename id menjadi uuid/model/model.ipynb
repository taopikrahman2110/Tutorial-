{
 "cells": [
  {
   "attachments": {},
   "cell_type": "markdown",
   "metadata": {},
   "source": [
    "**merubah model menjadi uuid**"
   ]
  },
  {
   "cell_type": "code",
   "execution_count": null,
   "metadata": {
    "vscode": {
     "languageId": "plaintext"
    }
   },
   "outputs": [],
   "source": [
    "use HasFactory;\n",
    "    protected $guarded = [];\n",
    "\n",
    "    public $incrementing = false;\n",
    "    protected $keyType = 'string';\n",
    "\n",
    "\n",
    "    protected static function boot()\n",
    "    {\n",
    "        parent::boot();\n",
    "\n",
    "        static::creating(function ($model){\n",
    "            if($model -> getKey() == null){\n",
    "                $model->setAttribute($model->getKeyName(), Str::uuid()->toString());\n",
    "            }\n",
    "        });\n",
    "    }"
   ]
  },
  {
   "attachments": {},
   "cell_type": "markdown",
   "metadata": {},
   "source": [
    "jangan lupa import Str (use Illuminate\\Support\\Str;)"
   ]
  }
 ],
 "metadata": {
  "language_info": {
   "name": "python"
  },
  "orig_nbformat": 4
 },
 "nbformat": 4,
 "nbformat_minor": 2
}
