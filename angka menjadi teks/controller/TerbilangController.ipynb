{
 "cells": [
  {
   "attachments": {},
   "cell_type": "markdown",
   "metadata": {},
   "source": [
    "**Controller Untuk Terbilang**"
   ]
  },
  {
   "cell_type": "code",
   "execution_count": null,
   "metadata": {
    "vscode": {
     "languageId": "plaintext"
    }
   },
   "outputs": [],
   "source": [
    "public function index()\n",
    "    {\n",
    "        return view('terbilang.index');\n",
    "    }\n",
    "public function terbilang(Request $request)\n",
    "    {\n",
    "        $angka = $request->input('angka');\n",
    "\n",
    "        $terbilang = new Terbilang();\n",
    "        $terbilang = $terbilang->make($angka, ' rupiah', 'senilai ');\n",
    "        return view('terbilang.index', compact('terbilang'));\n",
    "\n",
    "    }"
   ]
  }
 ],
 "metadata": {
  "language_info": {
   "name": "python"
  },
  "orig_nbformat": 4
 },
 "nbformat": 4,
 "nbformat_minor": 2
}
