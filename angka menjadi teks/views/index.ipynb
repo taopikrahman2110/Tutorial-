{
 "cells": [
  {
   "attachments": {},
   "cell_type": "markdown",
   "metadata": {},
   "source": [
    "**View Index Terbilang**"
   ]
  },
  {
   "attachments": {},
   "cell_type": "markdown",
   "metadata": {},
   "source": [
    "    <div id=\"page-wrapper\">\n",
    "        <div class=\"container-fluid\">\n",
    "\n",
    "            <div class=\"row\">\n",
    "                <div class=\"col-lg-12\">\n",
    "                    <h1 class=\"page-header\">Page Title</h1>\n",
    "\n",
    "                    <form method=\"POST\" action=\"{{ route('terbilang') }}\">\n",
    "                        @csrf\n",
    "                        <label for=\"angka\">Masukkan angka:</label>\n",
    "                        <input type=\"number\" name=\"angka\" id=\"angka\" required>\n",
    "                        <button type=\"submit\">Terbilang</button>\n",
    "                    </form>\n",
    "\n",
    "                    @isset($terbilang)\n",
    "                        <p>{{ $terbilang }}</p>\n",
    "                    @endisset\n",
    "                </div>\n",
    "            </div>\n",
    "\n",
    "        </div>\n",
    "    </div>"
   ]
  }
 ],
 "metadata": {
  "language_info": {
   "name": "python"
  },
  "orig_nbformat": 4
 },
 "nbformat": 4,
 "nbformat_minor": 2
}
