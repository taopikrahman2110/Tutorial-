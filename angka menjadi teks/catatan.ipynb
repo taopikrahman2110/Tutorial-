{
 "cells": [
  {
   "attachments": {},
   "cell_type": "markdown",
   "metadata": {},
   "source": [
    "**Catatan Angka Menjadi Teks**"
   ]
  },
  {
   "attachments": {},
   "cell_type": "markdown",
   "metadata": {},
   "source": [
    "inputan angka 1000 maka hasilnya seribu \n",
    "\n",
    "Dengan metode Terbilang \n",
    "referensi \n",
    "https://github.com/riskihajar/terbilang\n"
   ]
  },
  {
   "attachments": {},
   "cell_type": "markdown",
   "metadata": {},
   "source": [
    "**Install Package**"
   ]
  },
  {
   "cell_type": "code",
   "execution_count": null,
   "metadata": {
    "vscode": {
     "languageId": "plaintext"
    }
   },
   "outputs": [],
   "source": [
    "composer require riskihajar/terbilang:^2.0"
   ]
  },
  {
   "attachments": {},
   "cell_type": "markdown",
   "metadata": {},
   "source": [
    "**Add Provider And Alias**"
   ]
  },
  {
   "cell_type": "code",
   "execution_count": null,
   "metadata": {
    "vscode": {
     "languageId": "plaintext"
    }
   },
   "outputs": [],
   "source": [
    "providers\n",
    "\n",
    "Riskihajar\\Terbilang\\TerbilangServiceProvider::class,\n",
    "\n",
    "Alias\n",
    "\n",
    "'Terbilang' => Riskihajar\\Terbilang\\Facades\\Terbilang::class,"
   ]
  },
  {
   "attachments": {},
   "cell_type": "markdown",
   "metadata": {},
   "source": [
    "**Publish Configuration (Optional)**"
   ]
  },
  {
   "cell_type": "code",
   "execution_count": null,
   "metadata": {
    "vscode": {
     "languageId": "plaintext"
    }
   },
   "outputs": [],
   "source": [
    "php artisan vendor:publish --provider=\"Riskihajar\\Terbilang\\TerbilangServiceProvider\""
   ]
  }
 ],
 "metadata": {
  "language_info": {
   "name": "python"
  },
  "orig_nbformat": 4
 },
 "nbformat": 4,
 "nbformat_minor": 2
}
