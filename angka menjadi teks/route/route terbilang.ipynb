{
 "cells": [
  {
   "attachments": {},
   "cell_type": "markdown",
   "metadata": {},
   "source": [
    "**Route Untuk Terbilang**"
   ]
  },
  {
   "cell_type": "code",
   "execution_count": null,
   "metadata": {
    "vscode": {
     "languageId": "plaintext"
    }
   },
   "outputs": [],
   "source": [
    "Route::get('/terbilang',[\\App\\Http\\Controllers\\TerbilangController::class,'index']);\n",
    "Route::post('/terbilang',[\\App\\Http\\Controllers\\TerbilangController::class,'terbilang'])->name('terbilang');\n"
   ]
  }
 ],
 "metadata": {
  "language_info": {
   "name": "python"
  },
  "orig_nbformat": 4
 },
 "nbformat": 4,
 "nbformat_minor": 2
}
